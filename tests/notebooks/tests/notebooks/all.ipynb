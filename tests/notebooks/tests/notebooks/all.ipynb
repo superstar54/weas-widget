{
 "cells": [
  {
   "cell_type": "code",
   "execution_count": null,
   "metadata": {},
   "outputs": [],
   "source": [
    "# load a molecule from ASE and display it in the weas widget\n",
    "from ase.build import molecule\n",
    "from weas_widget import WeasWidget\n",
    "atoms = molecule(\"C2H6SO\")\n",
    "viewer = WeasWidget()\n",
    "viewer.from_ase(atoms)\n",
    "viewer\n"
   ]
  },
  {
   "cell_type": "code",
   "execution_count": null,
   "metadata": {},
   "outputs": [],
   "source": [
    "# export the structure to a ASE atoms object\n",
    "viewer.to_ase()"
   ]
  },
  {
   "cell_type": "code",
   "execution_count": null,
   "metadata": {},
   "outputs": [],
   "source": [
    "# test modelStyle\n",
    "viewer.modelStyle = 1\n",
    "viewer.drawModels()"
   ]
  },
  {
   "cell_type": "code",
   "execution_count": null,
   "metadata": {},
   "outputs": [],
   "source": [
    "# only draw stick (bond) for first four atoms\n",
    "viewer.modelSticks = [1, 1, 1, 1, 0, 0, 0, 0]\n",
    "viewer.drawModels()"
   ]
  },
  {
   "cell_type": "code",
   "execution_count": null,
   "metadata": {},
   "outputs": [],
   "source": [
    "# Set scale for each atoms\n",
    "viewer.atomScales = [1, 1, 1, 1, 1, 0.6, 0.6, 0.6, 1.5, 1.5]\n",
    "viewer.drawModels()"
   ]
  },
  {
   "cell_type": "code",
   "execution_count": null,
   "metadata": {},
   "outputs": [],
   "source": [
    "# set atoms and highlight\n",
    "viewer.selectedAtomsIndices = [0, 1, 2]\n",
    "viewer"
   ]
  },
  {
   "cell_type": "code",
   "execution_count": null,
   "metadata": {},
   "outputs": [],
   "source": [
    "# Crystal\n",
    "# For a nice visualization of a crystal, one usually shows the polyhedra and the atoms on the unit cell boundary, as well as the bonded atoms outside the cell.\n",
    "\n",
    "from weas_widget import WeasWidget\n",
    "viewer1 = WeasWidget()\n",
    "viewer1.load_example(\"tio2.cif\")\n",
    "# show polyhedra\n",
    "viewer1.modelStyle = 2\n",
    "# show boundary atoms\n",
    "viewer1.boundary = [[-0.1, 1.1], [-0.1, 1.1], [-0.1, 1.1]]\n",
    "# show bonded atoms outside the cell\n",
    "viewer1.showBondedAtoms = True\n",
    "# Change color tyoe to \"VESTA\"\n",
    "viewer1.colorType = \"VESTA\"\n",
    "viewer1"
   ]
  },
  {
   "cell_type": "code",
   "execution_count": null,
   "metadata": {},
   "outputs": [],
   "source": [
    "# Isosurface\n",
    "# Here is an example of drawing isosurfaces for HOMO of H2O molecule.\n",
    "from weas_widget import WeasWidget\n",
    "from ase.io.cube import read_cube_data\n",
    "volume, atoms = read_cube_data(\"h2o-homo.cube\")\n",
    "viewer = WeasWidget()\n",
    "viewer.from_ase(atoms)\n",
    "viewer.volumetricData = {\"values\": volume}\n",
    "viewer.isoSettings = [{\"isovalue\": 0.0001, \"mode\": 0}]\n",
    "viewer"
   ]
  },
  {
   "cell_type": "code",
   "execution_count": null,
   "metadata": {},
   "outputs": [],
   "source": [
    "# Vector Field\n",
    "# Magnetic moment\n",
    "# Show the magnetic moment as a vector field.\n",
    "\n",
    "from ase.build import bulk\n",
    "from weas_widget import WeasWidget\n",
    "import numpy as np\n",
    "atoms = bulk(\"Fe\", cubic=True)\n",
    "atoms*=[2, 2, 1]\n",
    "atoms.set_array(\"moment\", np.ones(len(atoms)))\n",
    "viewer = WeasWidget()\n",
    "viewer.from_ase(atoms)\n",
    "viewer.modelStyle = 1\n",
    "viewer"
   ]
  },
  {
   "cell_type": "code",
   "execution_count": null,
   "metadata": {},
   "outputs": [],
   "source": []
  }
 ],
 "metadata": {
  "kernelspec": {
   "display_name": "Python 3",
   "language": "python",
   "name": "python3"
  },
  "language_info": {
   "codemirror_mode": {
    "name": "ipython",
    "version": 3
   },
   "file_extension": ".py",
   "mimetype": "text/x-python",
   "name": "python",
   "nbconvert_exporter": "python",
   "pygments_lexer": "ipython3",
   "version": "3.9.2"
  }
 },
 "nbformat": 4,
 "nbformat_minor": 4
}
