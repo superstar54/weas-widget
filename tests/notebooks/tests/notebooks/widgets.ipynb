{
 "cells": [
  {
   "cell_type": "code",
   "execution_count": null,
   "metadata": {},
   "outputs": [],
   "source": [
    "# guiConfig and viewerStyle\n",
    "# Disable the GUI entirely.\n",
    "import warnings\n",
    "warnings.filterwarnings('ignore')\n",
    "# load a molecule from ASE and display it in the weas widget\n",
    "from ase.build import molecule\n",
    "from weas_widget import WeasWidget\n",
    "atoms = molecule(\"C2H6SO\")\n",
    "viewer = WeasWidget(guiConfig={\"enabled\": False}, viewerStyle = {\"width\": \"800px\", \"hight\": \"600px\"})\n",
    "viewer.from_ase(atoms)\n",
    "viewer.avr.model_style = 1\n",
    "viewer\n"
   ]
  },
  {
   "cell_type": "code",
   "execution_count": null,
   "metadata": {},
   "outputs": [],
   "source": [
    "# Select specific components\n",
    "# load a molecule from ASE and display it in the weas widget\n",
    "from ase.build import molecule\n",
    "from weas_widget import WeasWidget\n",
    "atoms = molecule(\"C2H6SO\")\n",
    "guiConfig={\"enabled\": True,\n",
    "           \"components\": {\"atomsControl\": True,\n",
    "                          \"buttons\": True},\n",
    "           \"buttons\": {\"fullscreen\": True,\n",
    "                       \"download\": True,\n",
    "                       \"measurement\": True,\n",
    "                       }\n",
    "         }\n",
    "viewer = WeasWidget(guiConfig=guiConfig)\n",
    "viewer.from_ase(atoms)\n",
    "viewer.avr.model_style = 1\n",
    "viewer\n"
   ]
  },
  {
   "cell_type": "code",
   "execution_count": null,
   "metadata": {},
   "outputs": [],
   "source": [
    "# Camera settings\n",
    "from ase.build import molecule\n",
    "from weas_widget import WeasWidget\n",
    "atoms = molecule(\"C2H6SO\")\n",
    "viewer = WeasWidget()\n",
    "viewer.from_ase(atoms)\n",
    "viewer.avr.model_style = 1\n",
    "viewer.camera.setting = {\"lookAt\": [5, 1, 1], \"direction\": [0, 2, 1], \"zoom\": 0.8}\n",
    "viewer\n"
   ]
  },
  {
   "cell_type": "code",
   "execution_count": null,
   "metadata": {},
   "outputs": [],
   "source": [
    "# Color settings\n",
    "# ColorBy attribute\n",
    "from ase.build import molecule\n",
    "from weas_widget import WeasWidget\n",
    "atoms = molecule(\"C2H6SO\")\n",
    "viewer = WeasWidget()\n",
    "viewer.from_ase(atoms)\n",
    "viewer.avr.model_style = 1\n",
    "viewer.avr.color_by = \"Index\"\n",
    "viewer.avr.color_ramp = [\"red\", \"yellow\", \"blue\"]\n",
    "viewer\n"
   ]
  },
  {
   "cell_type": "code",
   "execution_count": null,
   "metadata": {},
   "outputs": [],
   "source": [
    "# export the structure to a ASE atoms object\n",
    "viewer.to_ase()"
   ]
  },
  {
   "cell_type": "code",
   "execution_count": null,
   "metadata": {},
   "outputs": [],
   "source": [
    "# Crystal\n",
    "# For a nice visualization of a crystal, one usually shows the polyhedra and the atoms on the unit cell boundary, as well as the bonded atoms outside the cell.\n",
    "\n",
    "from weas_widget import WeasWidget\n",
    "viewer1 = WeasWidget()\n",
    "viewer1.load_example(\"tio2.cif\")\n",
    "# show polyhedra\n",
    "viewer1.avr.model_style = 2\n",
    "# show boundary atoms\n",
    "viewer1.avr.boundary = [[-0.1, 1.1], [-0.1, 1.1], [-0.1, 1.1]]\n",
    "# show bonded atoms outside the cell\n",
    "viewer1.avr.show_bonded_atoms = True\n",
    "# Change color tyoe to \"VESTA\"\n",
    "viewer1.avr.color_type = \"VESTA\"\n",
    "viewer1"
   ]
  },
  {
   "cell_type": "code",
   "execution_count": null,
   "metadata": {},
   "outputs": [],
   "source": [
    "# Isurface\n",
    "from weas_widget import WeasWidget\n",
    "import requests\n",
    "from io import StringIO\n",
    "from ase.io.cube import read_cube_data\n",
    "url = \"https://raw.githubusercontent.com/superstar54/weas/main/demo/datas/h2o-homo.cube\"\n",
    "response = requests.get(url)\n",
    "file_content = response.text\n",
    "# Use StringIO to simulate a file-like object for ASE to read from\n",
    "file_like_object = StringIO(file_content)\n",
    "volume, atoms = read_cube_data(file_like_object)\n",
    "viewer = WeasWidget()\n",
    "viewer.from_ase(atoms)\n",
    "viewer.avr.iso.volumetric_data = {\"values\": volume}\n",
    "viewer.avr.iso.settings = [{\"isovalue\": 0.0001, \"mode\": 0}]\n",
    "viewer"
   ]
  },
  {
   "cell_type": "code",
   "execution_count": null,
   "metadata": {},
   "outputs": [],
   "source": [
    "# Vector Field\n",
    "# Magnetic moment\n",
    "# Show the magnetic moment as a vector field.\n",
    "\n",
    "from ase.build import bulk\n",
    "from weas_widget import WeasWidget\n",
    "import numpy as np\n",
    "atoms = bulk(\"Fe\", cubic=True)\n",
    "atoms*=[2, 2, 1]\n",
    "atoms.set_array(\"moment\", np.ones(len(atoms)))\n",
    "viewer = WeasWidget()\n",
    "viewer.from_ase(atoms)\n",
    "viewer.camera.setting = {\"direction\": [0, -1, 0]}\n",
    "viewer.avr.model_style = 1\n",
    "viewer"
   ]
  },
  {
   "cell_type": "code",
   "execution_count": null,
   "metadata": {},
   "outputs": [],
   "source": [
    "# Mesh Primitive\n",
    "from weas_widget import WeasWidget\n",
    "viewer = WeasWidget()\n",
    "data = [\n",
    "  {\n",
    "    \"type\": \"cube\",\n",
    "    \"materialType\": \"Standard\",\n",
    "    \"shape\": {\n",
    "      \"width\": 1,\n",
    "      \"height\": 1,\n",
    "      \"depth\": 1\n",
    "    },\n",
    "    \"instances\": [\n",
    "      {\n",
    "        \"position\": [-5, 0, 0],\n",
    "        \"scale\": [2, 1, 2],\n",
    "        \"rotation\": [0, 0, 0],\n",
    "        \"opacity\": 0.5\n",
    "      },\n",
    "      {\n",
    "        \"position\": [5, 0, 1],\n",
    "        \"scale\": [1, 0.5, 1],\n",
    "        \"rotation\": [1, 1, 0],\n",
    "        \"color\": \"#bd0d87\"\n",
    "      }\n",
    "    ]\n",
    "  },\n",
    "  {\n",
    "    \"type\": \"cylinder\",\n",
    "    \"shape\": {\n",
    "      \"radiusTop\": 1,\n",
    "      \"radiusBottom\": 1,\n",
    "      \"height\": 5,\n",
    "      \"radialSegments\": 12,\n",
    "      \"heightSegments\": 1\n",
    "    },\n",
    "    \"instances\": [\n",
    "      {\n",
    "        \"position\": [0, 0, 0],\n",
    "        \"scale\": [1, 1, 1],\n",
    "        \"rotation\": [0, 0, 0],\n",
    "        \"color\": \"#0d87bd\"\n",
    "      }\n",
    "    ]\n",
    "  },\n",
    "]\n",
    "\n",
    "\n",
    "viewer.imp.settings = data\n",
    "viewer"
   ]
  },
  {
   "cell_type": "code",
   "execution_count": null,
   "metadata": {},
   "outputs": [],
   "source": []
  }
 ],
 "metadata": {
  "kernelspec": {
   "display_name": "Python 3",
   "language": "python",
   "name": "python3"
  },
  "language_info": {
   "codemirror_mode": {
    "name": "ipython",
    "version": 3
   },
   "file_extension": ".py",
   "mimetype": "text/x-python",
   "name": "python",
   "nbconvert_exporter": "python",
   "pygments_lexer": "ipython3",
   "version": "3.11.5"
  }
 },
 "nbformat": 4,
 "nbformat_minor": 4
}
