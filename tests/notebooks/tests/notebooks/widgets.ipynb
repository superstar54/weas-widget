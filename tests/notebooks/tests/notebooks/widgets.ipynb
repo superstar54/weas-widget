{
 "cells": [
  {
   "cell_type": "code",
   "execution_count": null,
   "metadata": {},
   "outputs": [],
   "source": [
    "# guiConfig and viewerStyle\n",
    "# Disable the GUI entirely.\n",
    "import warnings\n",
    "warnings.filterwarnings('ignore')\n",
    "# load a molecule from ASE and display it in the weas widget\n",
    "from ase.build import molecule\n",
    "from weas_widget import WeasWidget\n",
    "atoms = molecule(\"C2H6SO\")\n",
    "viewer = WeasWidget(guiConfig={\"enabled\": False}, viewerStyle = {\"width\": \"800px\", \"hight\": \"600px\"})\n",
    "viewer.from_ase(atoms)\n",
    "viewer.avr.model_style = 1\n",
    "viewer"
   ]
  },
  {
   "cell_type": "code",
   "execution_count": null,
   "metadata": {},
   "outputs": [],
   "source": [
    "# Select specific components\n",
    "# load a molecule from ASE and display it in the weas widget\n",
    "from ase.build import molecule\n",
    "from weas_widget import WeasWidget\n",
    "atoms = molecule(\"C2H6SO\")\n",
    "guiConfig={\"enabled\": True,\n",
    "           \"components\": {\"atomsControl\": True,\n",
    "                          \"buttons\": True},\n",
    "           \"buttons\": {\"fullscreen\": True,\n",
    "                       \"download\": True,\n",
    "                       \"measurement\": True,\n",
    "                       }\n",
    "         }\n",
    "viewer = WeasWidget(guiConfig=guiConfig)\n",
    "viewer.from_ase(atoms)\n",
    "viewer.avr.model_style = 1\n",
    "viewer"
   ]
  },
  {
   "cell_type": "code",
   "execution_count": null,
   "metadata": {},
   "outputs": [],
   "source": [
    "# Crystal\n",
    "# For a nice visualization of a crystal, one usually shows the polyhedra and the atoms on the unit cell boundary, as well as the bonded atoms outside the cell.\n",
    "\n",
    "from weas_widget import WeasWidget\n",
    "viewer = WeasWidget()\n",
    "viewer.load_example(\"tio2.cif\")\n",
    "viewer.avr.model_style = 2\n",
    "# show boundary atoms\n",
    "viewer.avr.boundary = [[-0.1, 1.1], [-0.1, 1.1], [-0.1, 1.1]]\n",
    "# show bonded atoms outside the cell\n",
    "viewer.avr.show_bonded_atoms = True\n",
    "# Change color tyoe to \"VESTA\"\n",
    "viewer.avr.color_type = \"VESTA\"\n",
    "viewer"
   ]
  },
  {
   "cell_type": "code",
   "execution_count": null,
   "metadata": {},
   "outputs": [],
   "source": [
    "# Color settings\n",
    "# ColorBy attribute\n",
    "from ase.build import molecule\n",
    "from weas_widget import WeasWidget\n",
    "atoms = molecule(\"C2H6SO\")\n",
    "viewer = WeasWidget()\n",
    "viewer.from_ase(atoms)\n",
    "viewer.avr.model_style = 1\n",
    "viewer.avr.color_by = \"Index\"\n",
    "viewer.avr.color_ramp = [\"red\", \"yellow\", \"blue\"]\n",
    "viewer"
   ]
  }
 ],
 "metadata": {
  "kernelspec": {
   "display_name": "Python 3",
   "language": "python",
   "name": "python3"
  },
  "language_info": {
   "codemirror_mode": {
    "name": "ipython",
    "version": 3
   },
   "file_extension": ".py",
   "mimetype": "text/x-python",
   "name": "python",
   "nbconvert_exporter": "python",
   "pygments_lexer": "ipython3",
   "version": "3.11.5"
  }
 },
 "nbformat": 4,
 "nbformat_minor": 4
}
