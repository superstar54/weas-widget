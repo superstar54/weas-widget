{
 "cells": [
  {
   "cell_type": "code",
   "execution_count": null,
   "metadata": {},
   "outputs": [],
   "source": [
    "# guiConfig and viewerStyle\n",
    "# Disable the GUI entirely.\n",
    "import warnings\n",
    "warnings.filterwarnings('ignore')\n",
    "# Camera settings\n",
    "from weas_widget import WeasWidget\n",
    "from ase.build import bulk\n",
    "\n",
    "atoms = bulk('Au', 'fcc', a=4.08, cubic=True)\n",
    "viewer = WeasWidget()\n",
    "viewer.from_ase(atoms)\n",
    "viewer.avr.model_style = 1\n",
    "viewer.camera.setting = {\"direction\": [0.2, 0.5, 1], \"zoom\": 0.8}\n",
    "viewer"
   ]
  },
  {
   "cell_type": "code",
   "execution_count": null,
   "metadata": {},
   "outputs": [],
   "source": [
    "import time\n",
    "time.sleep(1)\n",
    "viewer.avr.lp.add_plane_from_indices(name = \"111\", indices = [1, 1, 1], distance = 4, scale = 1.0, width = 0.1, color = [0, 1, 1, 0.5])\n",
    "viewer.avr.lp.build_plane()"
   ]
  },
  {
   "cell_type": "code",
   "execution_count": null,
   "metadata": {},
   "outputs": [],
   "source": [
    "viewer.avr.lp.settings = {}\n",
    "viewer.avr.selected_atoms_indices = [1, 2, 3]\n",
    "viewer.avr.lp.add_plane_from_selected_atoms(name = \"plane1\", width = 0.1, color = [1, 0, 0, 0.5])\n",
    "viewer.avr.lp.build_plane()\n"
   ]
  }
 ],
 "metadata": {
  "kernelspec": {
   "display_name": "Python 3 (ipykernel)",
   "language": "python",
   "name": "python3"
  },
  "language_info": {
   "codemirror_mode": {
    "name": "ipython",
    "version": 3
   },
   "file_extension": ".py",
   "mimetype": "text/x-python",
   "name": "python",
   "nbconvert_exporter": "python",
   "pygments_lexer": "ipython3",
   "version": "3.11.5"
  }
 },
 "nbformat": 4,
 "nbformat_minor": 4
}
