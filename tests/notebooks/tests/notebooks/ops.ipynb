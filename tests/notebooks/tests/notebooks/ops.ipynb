{
 "cells": [
  {
   "cell_type": "code",
   "execution_count": 1,
   "metadata": {},
   "outputs": [
    {
     "data": {
      "application/vnd.jupyter.widget-view+json": {
       "model_id": "a3ba837301ea49349b3d52cd92004136",
       "version_major": 2,
       "version_minor": 0
      },
      "text/plain": [
       "BaseWidget(atomScales=[1, 1, 1, 1, 1, 1, 1, 1, 1, 1], atoms={'species': {'S': 'S', 'O': 'O', 'C': 'C', 'H': 'H…"
      ]
     },
     "execution_count": 1,
     "metadata": {},
     "output_type": "execute_result"
    }
   ],
   "source": [
    "# guiConfig and viewerStyle\n",
    "# Disable the GUI entirely.\n",
    "import warnings\n",
    "warnings.filterwarnings('ignore')\n",
    "# load a molecule from ASE and display it in the weas widget\n",
    "from ase.build import molecule\n",
    "from weas_widget import WeasWidget\n",
    "atoms = molecule(\"C2H6SO\")\n",
    "viewer = WeasWidget()\n",
    "viewer.from_ase(atoms)\n",
    "viewer.avr.model_style = 1\n",
    "viewer"
   ]
  },
  {
   "cell_type": "code",
   "execution_count": 2,
   "metadata": {},
   "outputs": [],
   "source": [
    "viewer.ops.selection.select_all()"
   ]
  },
  {
   "cell_type": "code",
   "execution_count": 3,
   "metadata": {},
   "outputs": [],
   "source": [
    "viewer.avr.selected_atoms_indices = [0]"
   ]
  },
  {
   "cell_type": "code",
   "execution_count": 5,
   "metadata": {},
   "outputs": [],
   "source": [
    "viewer.ops.atoms.replace(symbol = \"N\")"
   ]
  },
  {
   "cell_type": "code",
   "execution_count": null,
   "metadata": {},
   "outputs": [],
   "source": [
    "viewer.ops.selection.invert_selection()"
   ]
  },
  {
   "cell_type": "code",
   "execution_count": null,
   "metadata": {},
   "outputs": [],
   "source": [
    "viewer.ops.mesh.add_cube(position = [5, 0, 0], size=2.5)"
   ]
  },
  {
   "cell_type": "code",
   "execution_count": null,
   "metadata": {},
   "outputs": [],
   "source": [
    "viewer.ops.transform.translate(vector = [5, 0, 0])"
   ]
  },
  {
   "cell_type": "code",
   "execution_count": null,
   "metadata": {},
   "outputs": [],
   "source": [
    "viewer.ops.undo()"
   ]
  },
  {
   "cell_type": "code",
   "execution_count": null,
   "metadata": {},
   "outputs": [],
   "source": [
    "viewer.ops.redo()"
   ]
  }
 ],
 "metadata": {
  "kernelspec": {
   "display_name": "Python 3",
   "language": "python",
   "name": "python3"
  },
  "language_info": {
   "codemirror_mode": {
    "name": "ipython",
    "version": 3
   },
   "file_extension": ".py",
   "mimetype": "text/x-python",
   "name": "python",
   "nbconvert_exporter": "python",
   "pygments_lexer": "ipython3",
   "version": "3.11.5"
  }
 },
 "nbformat": 4,
 "nbformat_minor": 4
}
