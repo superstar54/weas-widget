{
 "cells": [
  {
   "cell_type": "code",
   "execution_count": 1,
   "metadata": {},
   "outputs": [
    {
     "data": {
      "application/vnd.jupyter.widget-view+json": {
       "model_id": "5c51f5f6154b471788dfa57084c11be6",
       "version_major": 2,
       "version_minor": 0
      },
      "text/plain": [
       "BaseWidget(atomScales=[1, 1, 1, 1, 1, 1, 1, 1, 1, 1], atoms={'species': {'S': 'S', 'O': 'O', 'C': 'C', 'H': 'H…"
      ]
     },
     "execution_count": 1,
     "metadata": {},
     "output_type": "execute_result"
    }
   ],
   "source": [
    "# guiConfig and viewerStyle\n",
    "# Disable the GUI entirely.\n",
    "import warnings\n",
    "warnings.filterwarnings('ignore')\n",
    "\n",
    "# Isosurface\n",
    "from weas_widget import WeasWidget\n",
    "import requests\n",
    "from io import StringIO\n",
    "from ase.io.cube import read_cube_data\n",
    "url = \"https://raw.githubusercontent.com/superstar54/weas/main/demo/datas/h2o-homo.cube\"\n",
    "response = requests.get(url)\n",
    "file_content = response.text\n",
    "# Use StringIO to simulate a file-like object for ASE to read from\n",
    "file_like_object = StringIO(file_content)\n",
    "volume, atoms = read_cube_data(file_like_object)\n",
    "viewer = WeasWidget()\n",
    "viewer.from_ase(atoms)\n",
    "viewer.avr.iso.volumetric_data = {\"values\": volume}\n",
    "viewer.avr.iso.settings = [{\"isovalue\": 0.0001, \"mode\": 0}]\n",
    "viewer"
   ]
  },
  {
   "cell_type": "code",
   "execution_count": 3,
   "metadata": {},
   "outputs": [
    {
     "data": {
      "application/vnd.jupyter.widget-view+json": {
       "model_id": "ba088e8ff7cf4b7e811261929231710e",
       "version_major": 2,
       "version_minor": 0
      },
      "text/plain": [
       "BaseWidget(atomScales=[1, 1, 1, 1, 1, 1, 1, 1], atoms={'species': {'Fe': 'Fe'}, 'cell': [5.74, 0.0, 0.0, 0.0, …"
      ]
     },
     "execution_count": 3,
     "metadata": {},
     "output_type": "execute_result"
    }
   ],
   "source": [
    "# Vector Field\n",
    "# Magnetic moment\n",
    "# Show the magnetic moment as a vector field.\n",
    "\n",
    "from ase.build import bulk\n",
    "from weas_widget import WeasWidget\n",
    "import numpy as np\n",
    "atoms = bulk(\"Fe\", cubic=True)\n",
    "atoms*=[2, 2, 1]\n",
    "atoms.set_array(\"moment\", np.ones(len(atoms)))\n",
    "viewer = WeasWidget()\n",
    "viewer.from_ase(atoms)\n",
    "viewer.camera.setting = {\"direction\": [0, -1, 0]}\n",
    "viewer.avr.model_style = 1\n",
    "viewer"
   ]
  },
  {
   "cell_type": "code",
   "execution_count": 4,
   "metadata": {},
   "outputs": [
    {
     "data": {
      "application/vnd.jupyter.widget-view+json": {
       "model_id": "512b89f532a44be689bdc9250d897ccc",
       "version_major": 2,
       "version_minor": 0
      },
      "text/plain": [
       "BaseWidget(atoms={}, boundary=[[0, 1], [0, 1], [0, 1]], colorRamp=['red', 'blue'], instancedMeshPrimitive=[{'t…"
      ]
     },
     "execution_count": 4,
     "metadata": {},
     "output_type": "execute_result"
    }
   ],
   "source": [
    "# Mesh Primitive\n",
    "from weas_widget import WeasWidget\n",
    "viewer = WeasWidget()\n",
    "data = [\n",
    "  {\n",
    "    \"type\": \"cube\",\n",
    "    \"materialType\": \"Standard\",\n",
    "    \"shape\": {\n",
    "      \"width\": 1,\n",
    "      \"height\": 1,\n",
    "      \"depth\": 1\n",
    "    },\n",
    "    \"instances\": [\n",
    "      {\n",
    "        \"position\": [-5, 0, 0],\n",
    "        \"scale\": [2, 1, 2],\n",
    "        \"rotation\": [0, 0, 0],\n",
    "        \"opacity\": 0.5\n",
    "      },\n",
    "      {\n",
    "        \"position\": [5, 0, 1],\n",
    "        \"scale\": [1, 0.5, 1],\n",
    "        \"rotation\": [1, 1, 0],\n",
    "        \"color\": \"#bd0d87\"\n",
    "      }\n",
    "    ]\n",
    "  },\n",
    "  {\n",
    "    \"type\": \"cylinder\",\n",
    "    \"shape\": {\n",
    "      \"radiusTop\": 1,\n",
    "      \"radiusBottom\": 1,\n",
    "      \"height\": 5,\n",
    "      \"radialSegments\": 12,\n",
    "      \"heightSegments\": 1\n",
    "    },\n",
    "    \"instances\": [\n",
    "      {\n",
    "        \"position\": [0, 0, 0],\n",
    "        \"scale\": [1, 1, 1],\n",
    "        \"rotation\": [0, 0, 0],\n",
    "        \"color\": \"#0d87bd\"\n",
    "      }\n",
    "    ]\n",
    "  },\n",
    "]\n",
    "\n",
    "\n",
    "viewer.imp.settings = data\n",
    "viewer"
   ]
  }
 ],
 "metadata": {
  "kernelspec": {
   "display_name": "Python 3 (ipykernel)",
   "language": "python",
   "name": "python3"
  },
  "language_info": {
   "codemirror_mode": {
    "name": "ipython",
    "version": 3
   },
   "file_extension": ".py",
   "mimetype": "text/x-python",
   "name": "python",
   "nbconvert_exporter": "python",
   "pygments_lexer": "ipython3",
   "version": "3.11.5"
  }
 },
 "nbformat": 4,
 "nbformat_minor": 4
}
