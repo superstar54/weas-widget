{
 "cells": [
  {
   "cell_type": "markdown",
   "id": "ff2b43f9",
   "metadata": {},
   "source": [
    "# WEAS Widget examples\n",
    "## Load structure\n",
    "One can load a structure from ASE or Pymatgen"
   ]
  },
  {
   "cell_type": "code",
   "execution_count": 4,
   "id": "e37d2ab4",
   "metadata": {},
   "outputs": [
    {
     "data": {
      "application/vnd.jupyter.widget-view+json": {
       "model_id": "eef4e918f93c44799cb17074cf84a5a2",
       "version_major": 2,
       "version_minor": 0
      },
      "text/plain": [
       "WeasWidget(atomScales=[1, 1, 1, 1, 1, 1, 1, 1, 1, 1], atoms={'species': {'S': ['S', 16], 'O': ['O', 8], 'C': […"
      ]
     },
     "execution_count": 4,
     "metadata": {},
     "output_type": "execute_result"
    }
   ],
   "source": [
    "from ase.build import molecule\n",
    "from weas_widget import WeasWidget\n",
    "atoms = molecule(\"C2H6SO\")\n",
    "viewer = WeasWidget()\n",
    "viewer.from_ase(atoms)\n",
    "viewer\n"
   ]
  },
  {
   "cell_type": "markdown",
   "id": "145edf54",
   "metadata": {},
   "source": [
    "## Edit the structure with mouse and keyboard\n",
    "WEAS supports editing the atoms directly in the GUI and synchronizing with the structure of the Python object.\n",
    "\n",
    "### Select Atoms\n",
    "There are two methods for selecting atoms:\n",
    "- Pick Selection: Click directly on an atom to select it.\n",
    "- Range Selection: Hold the `Shift` key and drag the right mouse button to select a group of atoms.\n",
    "\n",
    "\n",
    "\n",
    "### Move, Rotate selected atoms\n",
    "\n",
    "Press the transform shortcut, and move your mouse.\n",
    "\n",
    "|Operation | Shortcut|\n",
    "|----------|---------|\n",
    "| Move     | `g`   |\n",
    "| Rotate   | `r`   |\n",
    "\n",
    "\n",
    "### Delete selected atoms\n",
    "Press the ``Delete`` key to delete the selected atoms\n",
    "\n",
    "\n",
    "### Export edited atoms\n",
    "One can export the edited atoms to ASE or Pymatgen"
   ]
  },
  {
   "cell_type": "code",
   "execution_count": 5,
   "id": "40d7764b",
   "metadata": {},
   "outputs": [
    {
     "data": {
      "text/plain": [
       "Atoms(symbols='SOC2H6', pbc=False)"
      ]
     },
     "execution_count": 5,
     "metadata": {},
     "output_type": "execute_result"
    }
   ],
   "source": [
    "viewer.to_ase()"
   ]
  },
  {
   "cell_type": "markdown",
   "id": "31abe86e",
   "metadata": {},
   "source": [
    "\n",
    "## Change the style\n",
    "\n",
    "### GUI\n",
    "On the top left, click `open controls`. One can change the viewer settings directly in the GUI:\n",
    "- model style\n",
    "    - Ball\n",
    "    - Ball and Stick\n",
    "    - Polyhedra\n",
    "    - Stick only\n",
    "- color type\n",
    "    - CPK\n",
    "    - VESTA\n",
    "    - JMOL\n",
    "- material type\n",
    "    - Standard\n",
    "    - Phong\n",
    "    - Basic\n",
    "- atom label\n",
    "    - None\n",
    "    - Atom sybol\n",
    "    - Atom index\n",
    "\n",
    "### Python\n",
    "One can use Python change the viewer settings. For example, change atoms style\n"
   ]
  },
  {
   "cell_type": "code",
   "execution_count": 6,
   "id": "add547b0",
   "metadata": {},
   "outputs": [],
   "source": [
    "# ball and stick\n",
    "viewer.modelStyle = 1\n",
    "viewer.drawModels()"
   ]
  },
  {
   "cell_type": "markdown",
   "id": "159dcdbb",
   "metadata": {},
   "source": [
    "One set the style for individue atom"
   ]
  },
  {
   "cell_type": "code",
   "execution_count": 7,
   "id": "c2dddf63",
   "metadata": {},
   "outputs": [],
   "source": [
    "# only draw stick (bond) for first four atoms\n",
    "viewer.modelSticks = [1, 1, 1, 1, 0, 0, 0, 0]\n",
    "viewer.drawModels()"
   ]
  },
  {
   "cell_type": "markdown",
   "id": "895b75ae",
   "metadata": {},
   "source": [
    "Set scale for each atoms:"
   ]
  },
  {
   "cell_type": "code",
   "execution_count": 8,
   "id": "d53f98f5-5683-438e-9393-04900505f0f8",
   "metadata": {
    "tags": []
   },
   "outputs": [],
   "source": [
    "viewer.atomScales = [1, 1, 1, 1, 1, 0.6, 0.6, 0.6, 1.5, 1.5]\n",
    "viewer.drawModels()"
   ]
  },
  {
   "cell_type": "markdown",
   "id": "b12b2131",
   "metadata": {},
   "source": [
    "### Select atoms\n",
    "One can get the indices of the selected atoms by:"
   ]
  },
  {
   "cell_type": "code",
   "execution_count": 9,
   "id": "c4dcca10-f4b5-4495-8767-24f844e9e760",
   "metadata": {
    "tags": []
   },
   "outputs": [
    {
     "data": {
      "text/plain": [
       "[]"
      ]
     },
     "execution_count": 9,
     "metadata": {},
     "output_type": "execute_result"
    }
   ],
   "source": [
    "viewer.selectedAtomsIndices"
   ]
  },
  {
   "cell_type": "markdown",
   "id": "f0441f64",
   "metadata": {},
   "source": [
    "One can set the indices of the selected atoms, thus highlight them by:"
   ]
  },
  {
   "cell_type": "code",
   "execution_count": 10,
   "id": "05651abf-6e18-43a6-a653-709f8c72bb27",
   "metadata": {},
   "outputs": [],
   "source": [
    "viewer.selectedAtomsIndices = [0, 1, 2]"
   ]
  },
  {
   "cell_type": "markdown",
   "id": "9ad1e44b",
   "metadata": {},
   "source": [
    "## Crystal\n",
    "For a nice visualization of a crystal, one usually shows the polyhedra and the atoms on the unit cell boundary, as well as the bonded atoms outside the cell.\n"
   ]
  },
  {
   "cell_type": "code",
   "execution_count": 11,
   "id": "d362b850-867b-4784-83f1-a92eb1372df0",
   "metadata": {},
   "outputs": [
    {
     "data": {
      "application/vnd.jupyter.widget-view+json": {
       "model_id": "8d084ebe9d104ec8bab0f5f889ec1ada",
       "version_major": 2,
       "version_minor": 0
      },
      "text/plain": [
       "WeasWidget(atomScales=[1, 1, 1, 1, 1, 1], atoms={'species': {'Ti': ['Ti', 22], 'O': ['O', 8]}, 'cell': [4.6532…"
      ]
     },
     "execution_count": 11,
     "metadata": {},
     "output_type": "execute_result"
    }
   ],
   "source": [
    "from weas_widget import WeasWidget\n",
    "viewer1 = WeasWidget()\n",
    "viewer1.load_example(\"tio2.cif\")\n",
    "# show polyhedra\n",
    "viewer1.modelStyle = 2\n",
    "# show boundary atoms\n",
    "viewer1.boundary = [[-0.1, 1.1], [-0.1, 1.1], [-0.1, 1.1]]\n",
    "# show bonded atoms outside the cell\n",
    "viewer1.showBondedAtoms = True\n",
    "# Change color tyoe to \"VESTA\"\n",
    "viewer1.colorType = \"VESTA\"\n",
    "viewer1"
   ]
  },
  {
   "cell_type": "markdown",
   "id": "12b2937b-9f06-45bb-bb37-72f5953a4178",
   "metadata": {},
   "source": [
    "## Animation\n",
    "One can read a trajectory file, such as an xyz file, for animation. You can play the animation using timeline bar."
   ]
  },
  {
   "cell_type": "code",
   "execution_count": 12,
   "id": "532678cc-afb6-4262-bcb7-2cf3bde67e87",
   "metadata": {},
   "outputs": [
    {
     "data": {
      "application/vnd.jupyter.widget-view+json": {
       "model_id": "bd97be30828849d9a1e746c1146a0974",
       "version_major": 2,
       "version_minor": 0
      },
      "text/plain": [
       "WeasWidget(atomScales=[1, 1, 1, 1, 1, 1, 1, 1, 1, 1], atoms=[{'species': {'S': ['S', 16], 'O': ['O', 8], 'C': …"
      ]
     },
     "execution_count": 12,
     "metadata": {},
     "output_type": "execute_result"
    }
   ],
   "source": [
    "from ase.build import molecule\n",
    "from weas_widget import WeasWidget\n",
    "atoms = molecule(\"C2H6SO\")\n",
    "# create a list of atoms by rotating it.\n",
    "images = []\n",
    "for i in range(0, 360, 10):\n",
    "    new_atoms = atoms.copy()\n",
    "    new_atoms.rotate(\"z\", i)\n",
    "    images.append(new_atoms)\n",
    "viewer = WeasWidget()\n",
    "viewer.from_ase(images)\n",
    "viewer\n"
   ]
  },
  {
   "cell_type": "markdown",
   "id": "f25039a0-3759-40e4-bf6f-76f9bf483019",
   "metadata": {},
   "source": [
    "## Isosurface\n",
    "Here is an example of drawing isosurfaces for HOMO of H2O molecule."
   ]
  },
  {
   "cell_type": "code",
   "execution_count": 1,
   "id": "e5380bfa-2d6f-4961-8a15-9eb7bd64c54e",
   "metadata": {},
   "outputs": [
    {
     "data": {
      "application/vnd.jupyter.widget-view+json": {
       "model_id": "0e7658976e9d4f80aa1dc610473b15b3",
       "version_major": 2,
       "version_minor": 0
      },
      "text/plain": [
       "WeasWidget(atomScales=[1, 1, 1], atoms={'species': {'O': ['O', 8], 'H': ['H', 1]}, 'cell': [10.222218836840568…"
      ]
     },
     "execution_count": 1,
     "metadata": {},
     "output_type": "execute_result"
    }
   ],
   "source": [
    "from weas_widget import WeasWidget\n",
    "from ase.io.cube import read_cube_data\n",
    "volume, atoms = read_cube_data(\"h2o-homo.cube\")\n",
    "viewer = WeasWidget()\n",
    "viewer.from_ase(atoms)\n",
    "viewer.volumetricData = {\"values\": volume}\n",
    "viewer.isoSettings = [{\"isovalue\": 0.0001, \"mode\": 0}]\n",
    "viewer"
   ]
  },
  {
   "cell_type": "markdown",
   "id": "b854bffa-3ef6-4dd2-bfc5-73856d7b1076",
   "metadata": {},
   "source": [
    "## Real world example\n",
    "### Adsorption"
   ]
  },
  {
   "cell_type": "code",
   "execution_count": 2,
   "id": "aa2ade62-65e6-49cc-8721-124f57b1e9ce",
   "metadata": {},
   "outputs": [
    {
     "data": {
      "application/vnd.jupyter.widget-view+json": {
       "model_id": "98ddae9e23ac4a04a309ba8238e969e8",
       "version_major": 2,
       "version_minor": 0
      },
      "text/plain": [
       "WeasWidget(atomScales=[1, 1, 1, 1, 1, 1, 1, 1, 1, 1, 1, 1, 1, 1, 1, 1, 1, 1, 1, 1, 1, 1], atoms={'species': {'…"
      ]
     },
     "execution_count": 2,
     "metadata": {},
     "output_type": "execute_result"
    }
   ],
   "source": [
    "from ase.build import surface, molecule\n",
    "from weas_widget import WeasWidget\n",
    "au11 = surface(\"Au\", (1, 1, 1), 4, vacuum=5.0)\n",
    "mol = molecule(\"C2H4\")\n",
    "au11 += mol\n",
    "viewer = WeasWidget()\n",
    "viewer.from_ase(au11)\n",
    "viewer"
   ]
  },
  {
   "cell_type": "code",
   "execution_count": 59,
   "id": "fdb10de0-e02b-4488-a710-d81303a490d7",
   "metadata": {},
   "outputs": [],
   "source": [
    "au111_co = viewer.to_ase()\n",
    "au111_co.write(\"au111_co.xyz\")"
   ]
  },
  {
   "cell_type": "markdown",
   "id": "8d482e01-a71a-4f8d-a7e4-070086b72f88",
   "metadata": {},
   "source": [
    "### Large system\n",
    "WEAS can handle thousands of atoms."
   ]
  },
  {
   "cell_type": "code",
   "execution_count": 16,
   "id": "63afd654-2a38-4488-a3e7-48f339200a02",
   "metadata": {
    "scrolled": true
   },
   "outputs": [
    {
     "name": "stdout",
     "output_type": "stream",
     "text": [
      "Number of atoms:  2000\n"
     ]
    },
    {
     "name": "stderr",
     "output_type": "stream",
     "text": [
      "/tmp/ipykernel_248578/2893244314.py:6: DeprecationWarning: `product` is deprecated as of NumPy 1.25.0, and will be removed in NumPy 2.0. Please use `prod` instead.\n",
      "  co *= [10, 10, 10]\n"
     ]
    },
    {
     "data": {
      "application/vnd.jupyter.widget-view+json": {
       "model_id": "aaf59cf059884e10bebe441a6dd2fb99",
       "version_major": 2,
       "version_minor": 0
      },
      "text/plain": [
       "WeasWidget(atomScales=[1, 1, 1, 1, 1, 1, 1, 1, 1, 1, 1, 1, 1, 1, 1, 1, 1, 1, 1, 1, 1, 1, 1, 1, 1, 1, 1, 1, 1, …"
      ]
     },
     "execution_count": 16,
     "metadata": {},
     "output_type": "execute_result"
    }
   ],
   "source": [
    "from ase.build import surface, molecule\n",
    "from weas_widget import WeasWidget\n",
    "co = molecule(\"CO\")\n",
    "co.center(3.0)\n",
    "co.pbc = [True, True, True]\n",
    "co *= [10, 10, 10]\n",
    "print(\"Number of atoms: \", len(co))\n",
    "viewer2 = WeasWidget()\n",
    "viewer2.from_ase(co)\n",
    "viewer2"
   ]
  }
 ],
 "metadata": {
  "kernelspec": {
   "display_name": "Python 3 (ipykernel)",
   "language": "python",
   "name": "python3"
  },
  "language_info": {
   "codemirror_mode": {
    "name": "ipython",
    "version": 3
   },
   "file_extension": ".py",
   "mimetype": "text/x-python",
   "name": "python",
   "nbconvert_exporter": "python",
   "pygments_lexer": "ipython3",
   "version": "3.11.5"
  }
 },
 "nbformat": 4,
 "nbformat_minor": 5
}
