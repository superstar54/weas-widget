{
 "cells": [
  {
   "cell_type": "markdown",
   "id": "ff2b43f9",
   "metadata": {},
   "source": [
    "# WEAS Widget examples\n",
    "## Install\n"
   ]
  },
  {
   "cell_type": "code",
   "execution_count": null,
   "id": "7a6dd5b9",
   "metadata": {},
   "outputs": [],
   "source": [
    "!pip install weas-widget"
   ]
  },
  {
   "cell_type": "markdown",
   "id": "882b5a21",
   "metadata": {},
   "source": [
    "## Load structure\n",
    "One can load a structure from ASE or Pymatgen."
   ]
  },
  {
   "cell_type": "code",
   "execution_count": null,
   "id": "e37d2ab4",
   "metadata": {},
   "outputs": [],
   "source": [
    "from ase.build import molecule\n",
    "from weas_widget import WeasWidget\n",
    "atoms = molecule(\"C2H6SO\")\n",
    "viewer = WeasWidget()\n",
    "viewer.from_ase(atoms)\n",
    "viewer.avr.model_style = 0\n",
    "viewer\n"
   ]
  },
  {
   "cell_type": "markdown",
   "id": "145edf54",
   "metadata": {},
   "source": [
    "## Edit the structure with mouse and keyboard\n",
    "WEAS supports editing the atoms directly in the GUI and synchronizing with the structure of the Python object.\n",
    "\n",
    "### Select Atoms\n",
    "There are two methods for selecting atoms:\n",
    "- Pick Selection: Click directly on an atom to select it.\n",
    "- Range Selection: Hold the `Shift` key and drag the right mouse button to select a group of atoms.\n",
    "\n",
    "\n",
    "\n",
    "### Move, Rotate selected atoms\n",
    "\n",
    "Press the transform shortcut, and move your mouse.\n",
    "\n",
    "|Operation | Shortcut|\n",
    "|----------|---------|\n",
    "| Move     | `g`   |\n",
    "| Rotate   | `r`   |\n",
    "\n",
    "\n",
    "### Delete selected atoms\n",
    "Press the ``Delete`` key to delete the selected atoms\n",
    "\n",
    "\n",
    "### Export edited atoms\n",
    "One can export the edited atoms to ASE or Pymatgen"
   ]
  },
  {
   "cell_type": "code",
   "execution_count": null,
   "id": "40d7764b",
   "metadata": {},
   "outputs": [],
   "source": [
    "viewer.to_ase()"
   ]
  },
  {
   "cell_type": "markdown",
   "id": "31abe86e",
   "metadata": {},
   "source": [
    "## Change the style"
   ]
  },
  {
   "cell_type": "code",
   "execution_count": null,
   "id": "add547b0",
   "metadata": {},
   "outputs": [],
   "source": [
    "# ball and stick\n",
    "viewer.avr.model_style = 0\n",
    "viewer"
   ]
  },
  {
   "cell_type": "markdown",
   "id": "b12b2131",
   "metadata": {},
   "source": [
    "### Select atoms\n",
    "One can get the indices of the selected atoms by:"
   ]
  },
  {
   "cell_type": "code",
   "execution_count": null,
   "id": "c4dcca10-f4b5-4495-8767-24f844e9e760",
   "metadata": {
    "tags": []
   },
   "outputs": [],
   "source": [
    "viewer.avr.selected_atoms_indices"
   ]
  },
  {
   "cell_type": "markdown",
   "id": "f0441f64",
   "metadata": {},
   "source": [
    "One can set the indices of the selected atoms, thus highlight them by:"
   ]
  },
  {
   "cell_type": "code",
   "execution_count": null,
   "id": "05651abf-6e18-43a6-a653-709f8c72bb27",
   "metadata": {},
   "outputs": [],
   "source": [
    "viewer.avr.selected_atoms_indices = [0, 1, 2]\n",
    "viewer"
   ]
  },
  {
   "cell_type": "markdown",
   "id": "9ad1e44b",
   "metadata": {},
   "source": [
    "## Crystal\n",
    "For a nice visualization of a crystal, one usually shows the polyhedra and the atoms on the unit cell boundary, as well as the bonded atoms outside the cell.\n"
   ]
  },
  {
   "cell_type": "code",
   "execution_count": null,
   "id": "d362b850-867b-4784-83f1-a92eb1372df0",
   "metadata": {},
   "outputs": [],
   "source": [
    "from weas_widget import WeasWidget\n",
    "viewer1 = WeasWidget()\n",
    "viewer1.load_example(\"tio2.cif\")\n",
    "# show polyhedra\n",
    "viewer1.avr.model_style = 2\n",
    "# show boundary atoms\n",
    "viewer1.avr.boundary = [[-0.1, 1.1], [-0.1, 1.1], [-0.1, 1.1]]\n",
    "# show bonded atoms outside the cell\n",
    "viewer1.avr.show_bonded_atoms = True\n",
    "# Change color tyoe to \"VESTA\"\n",
    "viewer1.avr.color_type = \"VESTA\"\n",
    "viewer1"
   ]
  },
  {
   "cell_type": "markdown",
   "id": "12b2937b-9f06-45bb-bb37-72f5953a4178",
   "metadata": {},
   "source": [
    "## Animation\n",
    "One can read a trajectory file, such as an xyz file, for animation. You can play the animation using timeline bar."
   ]
  },
  {
   "cell_type": "code",
   "execution_count": null,
   "id": "532678cc-afb6-4262-bcb7-2cf3bde67e87",
   "metadata": {},
   "outputs": [],
   "source": [
    "from ase.build import molecule\n",
    "from weas_widget import WeasWidget\n",
    "atoms = molecule(\"C2H6SO\")\n",
    "# create a list of atoms by rotating it.\n",
    "images = []\n",
    "for i in range(0, 360, 10):\n",
    "    new_atoms = atoms.copy()\n",
    "    new_atoms.rotate(\"z\", i)\n",
    "    images.append(new_atoms)\n",
    "viewer = WeasWidget()\n",
    "viewer.from_ase(images)\n",
    "viewer\n"
   ]
  },
  {
   "cell_type": "markdown",
   "id": "b854bffa-3ef6-4dd2-bfc5-73856d7b1076",
   "metadata": {},
   "source": [
    "## Real world example\n",
    "### Adsorption"
   ]
  },
  {
   "cell_type": "code",
   "execution_count": null,
   "id": "aa2ade62-65e6-49cc-8721-124f57b1e9ce",
   "metadata": {},
   "outputs": [],
   "source": [
    "from ase.build import surface, molecule\n",
    "from weas_widget import WeasWidget\n",
    "au111 = surface(\"Au\", (1, 1, 1), 4, vacuum=5.0)\n",
    "mol = molecule(\"CO\")\n",
    "au111 += mol\n",
    "viewer = WeasWidget()\n",
    "viewer.from_ase(au111)\n",
    "viewer.camera.setting = {\"direction\": [0, -1, 0]}\n",
    "viewer"
   ]
  },
  {
   "cell_type": "markdown",
   "id": "7b1451d3",
   "metadata": {},
   "source": [
    "You can modify the adsorption site by moving the adsorbate to the desired position. Then you can export the structure to ASE or Pymatgen."
   ]
  },
  {
   "cell_type": "code",
   "execution_count": null,
   "id": "fdb10de0-e02b-4488-a710-d81303a490d7",
   "metadata": {},
   "outputs": [],
   "source": [
    "au111_co = viewer.to_ase()\n",
    "print(au111_co)\n",
    "au111_co.write(\"au111_co.xyz\")"
   ]
  },
  {
   "cell_type": "markdown",
   "id": "8d482e01-a71a-4f8d-a7e4-070086b72f88",
   "metadata": {},
   "source": [
    "### Large system\n",
    "WEAS can handle thousands of atoms."
   ]
  },
  {
   "cell_type": "code",
   "execution_count": null,
   "id": "63afd654-2a38-4488-a3e7-48f339200a02",
   "metadata": {
    "scrolled": true
   },
   "outputs": [],
   "source": [
    "from ase.build import surface, molecule\n",
    "from weas_widget import WeasWidget\n",
    "co = molecule(\"CO\")\n",
    "co.center(3.0)\n",
    "co.pbc = [True, True, True]\n",
    "co *= [10, 10, 10]\n",
    "print(\"Number of atoms: \", len(co))\n",
    "viewer2 = WeasWidget()\n",
    "viewer2.from_ase(co)\n",
    "viewer2"
   ]
  }
 ],
 "metadata": {
  "kernelspec": {
   "display_name": "Python 3 (ipykernel)",
   "language": "python",
   "name": "python3"
  },
  "language_info": {
   "codemirror_mode": {
    "name": "ipython",
    "version": 3
   },
   "file_extension": ".py",
   "mimetype": "text/x-python",
   "name": "python",
   "nbconvert_exporter": "python",
   "pygments_lexer": "ipython3",
   "version": "3.11.0"
  }
 },
 "nbformat": 4,
 "nbformat_minor": 5
}
