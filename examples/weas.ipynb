{
 "cells": [
  {
   "cell_type": "code",
   "execution_count": 1,
   "id": "9852e9af-c69d-4003-a9fb-36c974d9d0e9",
   "metadata": {},
   "outputs": [],
   "source": [
    "from ase.build import molecule\n",
    "atoms = molecule(\"C2H6SO\")\n",
    "# atoms.center(3.0)\n"
   ]
  },
  {
   "cell_type": "code",
   "execution_count": 2,
   "id": "5fdbd61b-ff96-4d22-8514-9c9a497d4cb1",
   "metadata": {},
   "outputs": [
    {
     "data": {
      "application/vnd.jupyter.widget-view+json": {
       "model_id": "32a9f1475bdb4988a98e588fe74c2d56",
       "version_major": 2,
       "version_minor": 0
      },
      "text/plain": [
       "WeasWidget(atoms={'species': {'S': ['S', 16], 'O': ['O', 8], 'C': ['C', 6], 'H': ['H', 1]}, 'cell': [0.0, 0.0,…"
      ]
     },
     "execution_count": 2,
     "metadata": {},
     "output_type": "execute_result"
    }
   ],
   "source": [
    "from weas_widget import WeasWidget\n",
    "viewer = WeasWidget()\n",
    "viewer.from_ase(atoms)\n",
    "viewer"
   ]
  },
  {
   "cell_type": "code",
   "execution_count": 21,
   "id": "f5d6eed1-4544-46c8-90b5-0a84c68c6c9d",
   "metadata": {},
   "outputs": [
    {
     "name": "stdout",
     "output_type": "stream",
     "text": [
      "modelStyle:  1\n",
      "materialType:  Phong\n",
      "colorType:  VESTA\n",
      "atomLabelType:  None\n",
      "modelStyle:  1\n"
     ]
    }
   ],
   "source": [
    "print(\"modelStyle: \", viewer.modelStyle)\n",
    "print(\"materialType: \", viewer.materialType)\n",
    "print(\"colorType: \", viewer.colorType)\n",
    "print(\"atomLabelType: \", viewer.atomLabelType)\n",
    "viewer.modelStyle = 1\n",
    "viewer.atomLabelType = \"Index\"\n",
    "\n",
    "print(\"modelStyle: \", viewer.modelStyle)"
   ]
  },
  {
   "cell_type": "code",
   "execution_count": 5,
   "id": "d53f98f5-5683-438e-9393-04900505f0f8",
   "metadata": {
    "tags": []
   },
   "outputs": [
    {
     "data": {
      "text/plain": [
       "[[-1, 2], [-1, 2], [-1, 2]]"
      ]
     },
     "execution_count": 5,
     "metadata": {},
     "output_type": "execute_result"
    }
   ],
   "source": [
    "viewer.boundary"
   ]
  },
  {
   "cell_type": "code",
   "execution_count": 21,
   "id": "c4dcca10-f4b5-4495-8767-24f844e9e760",
   "metadata": {
    "tags": []
   },
   "outputs": [
    {
     "data": {
      "text/plain": [
       "[0, 7]"
      ]
     },
     "execution_count": 21,
     "metadata": {},
     "output_type": "execute_result"
    }
   ],
   "source": [
    "viewer.selectedAtoms"
   ]
  },
  {
   "cell_type": "code",
   "execution_count": null,
   "id": "05651abf-6e18-43a6-a653-709f8c72bb27",
   "metadata": {},
   "outputs": [],
   "source": []
  },
  {
   "cell_type": "markdown",
   "id": "67893b50-8ba0-40a5-8057-a70bd863de00",
   "metadata": {},
   "source": [
    "# new_atoms = viewer.to_ase()\n",
    "viewer1 = WeasWidget()\n",
    "viewer1.from_ase(new_atoms)\n",
    "viewer1"
   ]
  },
  {
   "cell_type": "code",
   "execution_count": 8,
   "id": "d362b850-867b-4784-83f1-a92eb1372df0",
   "metadata": {},
   "outputs": [
    {
     "name": "stderr",
     "output_type": "stream",
     "text": [
      "/tmp/ipykernel_211693/1777642636.py:3: DeprecationWarning: `product` is deprecated as of NumPy 1.25.0, and will be removed in NumPy 2.0. Please use `prod` instead.\n",
      "  tio2*=[2, 2, 2]\n"
     ]
    },
    {
     "data": {
      "application/vnd.jupyter.widget-view+json": {
       "model_id": "0c6e6657ea0d4a8a88a1b855af683692",
       "version_major": 2,
       "version_minor": 0
      },
      "text/plain": [
       "WeasWidget(atoms={'species': {'Ti': ['Ti', 22], 'O': ['O', 8]}, 'cell': [9.30654, 0.0, 0.0, 0.0, 9.30654, 0.0,…"
      ]
     },
     "execution_count": 8,
     "metadata": {},
     "output_type": "execute_result"
    }
   ],
   "source": [
    "from ase.io import read\n",
    "tio2 = read(\"./tio2.cif\")\n",
    "tio2*=[2, 2, 2]\n",
    "viewer1 = WeasWidget()\n",
    "viewer1.from_ase(tio2)\n",
    "viewer1\n"
   ]
  },
  {
   "cell_type": "code",
   "execution_count": null,
   "id": "3fe524d8-373a-4a67-892e-5152b1b838e3",
   "metadata": {},
   "outputs": [],
   "source": []
  },
  {
   "cell_type": "code",
   "execution_count": 4,
   "id": "97311dd1-bb8e-4e06-b9d6-845f557161c0",
   "metadata": {},
   "outputs": [
    {
     "data": {
      "text/plain": [
       "{'species': {'S': ['S', 16], 'O': ['O', 8], 'C': ['C', 6], 'H': ['H', 1]},\n",
       " 'cell': [5.0, 0.0, 0.0, 0.0, 5.0, 0.0, 0.0, 0.0, 5.0],\n",
       " 'positions': array([[ 2.000000e-06,  2.318380e-01, -4.386430e-01],\n",
       "        [ 2.000000e-05,  1.500742e+00,  3.798190e-01],\n",
       "        [ 1.339528e+00, -8.090220e-01,  1.807170e-01],\n",
       "        [-1.339548e+00, -8.089920e-01,  1.807180e-01],\n",
       "        [ 1.255835e+00, -8.963850e-01,  1.266825e+00],\n",
       "        [-2.279404e+00, -3.139240e-01, -6.867400e-02],\n",
       "        [ 1.304407e+00, -1.793327e+00, -2.925890e-01],\n",
       "        [ 2.279395e+00, -3.139740e-01, -6.867400e-02],\n",
       "        [-1.304447e+00, -1.793298e+00, -2.925870e-01],\n",
       "        [-1.255857e+00, -8.963550e-01,  1.266826e+00]]),\n",
       " 'speciesArray': ['S', 'O', 'C', 'C', 'H', 'H', 'H', 'H', 'H', 'H']}"
      ]
     },
     "execution_count": 4,
     "metadata": {},
     "output_type": "execute_result"
    }
   ],
   "source": [
    "from weas_widget import WeasWidget\n",
    "viewer = WeasWidget()\n",
    "viewer.from_ase(atoms)\n",
    "viewer"
   ]
  },
  {
   "cell_type": "code",
   "execution_count": 1,
   "id": "858ebca7-3589-48e6-b3e6-8a79a3b5aa30",
   "metadata": {},
   "outputs": [
    {
     "ename": "SyntaxError",
     "evalue": "unmatched ')' (__init__.py, line 38)",
     "output_type": "error",
     "traceback": [
      "Traceback \u001b[0;36m(most recent call last)\u001b[0m:\n",
      "\u001b[0m  File \u001b[1;32m~/miniconda3/lib/python3.11/site-packages/IPython/core/interactiveshell.py:3553\u001b[0m in \u001b[1;35mrun_code\u001b[0m\n    exec(code_obj, self.user_global_ns, self.user_ns)\u001b[0m\n",
      "\u001b[0;36m  Cell \u001b[0;32mIn[1], line 1\u001b[0;36m\n\u001b[0;31m    from weas_widget.weas_widget import WeasWidget, show_ase\u001b[0;36m\n",
      "\u001b[0;36m  File \u001b[0;32m~/repos/superstar54/weas-widget/weas_widget/__init__.py:38\u001b[0;36m\u001b[0m\n\u001b[0;31m    atoms={\"species\": species, \"cell\": cell, \"positions\": positions, \"speciesArray\": speciesArray})\u001b[0m\n\u001b[0m                                                                                                  ^\u001b[0m\n\u001b[0;31mSyntaxError\u001b[0m\u001b[0;31m:\u001b[0m unmatched ')'\n"
     ]
    }
   ],
   "source": [
    "from weas_widget.weas_widget import WeasWidget, show_ase"
   ]
  },
  {
   "cell_type": "markdown",
   "id": "b854bffa-3ef6-4dd2-bfc5-73856d7b1076",
   "metadata": {},
   "source": [
    "## Adsorption"
   ]
  },
  {
   "cell_type": "code",
   "execution_count": 7,
   "id": "aa2ade62-65e6-49cc-8721-124f57b1e9ce",
   "metadata": {},
   "outputs": [
    {
     "data": {
      "application/vnd.jupyter.widget-view+json": {
       "model_id": "db623f2aa31646b7914fd206e9ee5f68",
       "version_major": 2,
       "version_minor": 0
      },
      "text/plain": [
       "WeasWidget(atoms={'species': {'Au': ['Au', 79], 'O': ['O', 8], 'C': ['C', 6]}, 'cell': [5.769991334482228, 0.0…"
      ]
     },
     "execution_count": 7,
     "metadata": {},
     "output_type": "execute_result"
    }
   ],
   "source": [
    "from ase.build import surface, molecule\n",
    "from weas_widget import WeasWidget\n",
    "au111 = surface(\"Au\", (1, 1, 1), 4, vacuum=5.0)\n",
    "co = molecule(\"CO\")\n",
    "au111 += co\n",
    "viewer = WeasWidget()\n",
    "viewer.from_ase(au111)\n",
    "viewer"
   ]
  },
  {
   "cell_type": "code",
   "execution_count": 8,
   "id": "fdb10de0-e02b-4488-a710-d81303a490d7",
   "metadata": {},
   "outputs": [
    {
     "data": {
      "text/plain": [
       "Atoms(symbols='Au16OC', pbc=False, cell=[[5.769991334482228, 0.0, 0.0], [2.884995667241114, 4.996959075277683, 0.0], [0.0, 0.0, 17.066767294881018]])"
      ]
     },
     "execution_count": 8,
     "metadata": {},
     "output_type": "execute_result"
    }
   ],
   "source": [
    "viewer.to_ase()"
   ]
  },
  {
   "cell_type": "code",
   "execution_count": 86,
   "id": "1b135988-dbbb-4183-b1c4-f9904136893d",
   "metadata": {},
   "outputs": [],
   "source": [
    "au111_co.write(\"au111_co.xyz\")"
   ]
  },
  {
   "cell_type": "markdown",
   "id": "8d482e01-a71a-4f8d-a7e4-070086b72f88",
   "metadata": {},
   "source": [
    "## Large system"
   ]
  },
  {
   "cell_type": "code",
   "execution_count": 10,
   "id": "63afd654-2a38-4488-a3e7-48f339200a02",
   "metadata": {},
   "outputs": [
    {
     "name": "stdout",
     "output_type": "stream",
     "text": [
      "length:  250\n"
     ]
    },
    {
     "name": "stderr",
     "output_type": "stream",
     "text": [
      "/tmp/ipykernel_6335/106183070.py:6: DeprecationWarning: `product` is deprecated as of NumPy 1.25.0, and will be removed in NumPy 2.0. Please use `prod` instead.\n",
      "  co *= [5, 5, 5]\n"
     ]
    },
    {
     "data": {
      "application/vnd.jupyter.widget-view+json": {
       "model_id": "cf6ad09edbbd41c0b6b7793f30346f02",
       "version_major": 2,
       "version_minor": 0
      },
      "text/plain": [
       "WeasWidget(atoms={'species': {'O': ['O', 8], 'C': ['C', 6]}, 'cell': [30.0, 0.0, 0.0, 0.0, 30.0, 0.0, 0.0, 0.0…"
      ]
     },
     "execution_count": 10,
     "metadata": {},
     "output_type": "execute_result"
    }
   ],
   "source": [
    "from ase.build import surface, molecule\n",
    "from weas_widget import WeasWidget\n",
    "co = molecule(\"CO\")\n",
    "co.center(3.0)\n",
    "co.pbc = [True, True, True]\n",
    "co *= [5, 5, 5]\n",
    "print(\"length: \", len(co))\n",
    "viewer = WeasWidget()\n",
    "viewer.from_ase(co)\n",
    "viewer"
   ]
  },
  {
   "cell_type": "markdown",
   "id": "2fa879b4-5d4c-4e8b-aee1-be9812742daf",
   "metadata": {},
   "source": [
    "## Polyhedra"
   ]
  },
  {
   "cell_type": "code",
   "execution_count": 2,
   "id": "b2fc4bfc-d236-4fc3-9a55-31a4b3d8fac9",
   "metadata": {},
   "outputs": [
    {
     "data": {
      "application/vnd.jupyter.widget-view+json": {
       "model_id": "93240b0c07344218b3159db73516761a",
       "version_major": 2,
       "version_minor": 0
      },
      "text/plain": [
       "WeasWidget(atoms={'species': {'Ti': ['Ti', 22], 'O': ['O', 8]}, 'cell': [4.65327, 0.0, 0.0, 0.0, 4.65327, 0.0,…"
      ]
     },
     "execution_count": 2,
     "metadata": {},
     "output_type": "execute_result"
    }
   ],
   "source": [
    "from ase.io import read\n",
    "from weas_widget import WeasWidget\n",
    "atoms = read(\"./tio2.cif\")\n",
    "viewer = WeasWidget()\n",
    "viewer.from_ase(atoms)\n",
    "viewer"
   ]
  },
  {
   "cell_type": "code",
   "execution_count": 7,
   "id": "14c7e55f-1d52-4596-b54b-4ba7b102eec1",
   "metadata": {},
   "outputs": [
    {
     "data": {
      "text/plain": [
       "Atoms(symbols='Li8Mn16O32', pbc=False, cell=[8.24376, 8.24376, 8.24376])"
      ]
     },
     "execution_count": 7,
     "metadata": {},
     "output_type": "execute_result"
    }
   ],
   "source": [
    "viewer.to_ase()"
   ]
  },
  {
   "cell_type": "code",
   "execution_count": null,
   "id": "19efd087-7fab-4dee-bf80-d5cacf1dc6a7",
   "metadata": {},
   "outputs": [],
   "source": []
  }
 ],
 "metadata": {
  "kernelspec": {
   "display_name": "Python 3 (ipykernel)",
   "language": "python",
   "name": "python3"
  },
  "language_info": {
   "codemirror_mode": {
    "name": "ipython",
    "version": 3
   },
   "file_extension": ".py",
   "mimetype": "text/x-python",
   "name": "python",
   "nbconvert_exporter": "python",
   "pygments_lexer": "ipython3",
   "version": "3.11.5"
  }
 },
 "nbformat": 4,
 "nbformat_minor": 5
}
