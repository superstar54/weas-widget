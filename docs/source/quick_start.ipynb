{
 "cells": [
  {
   "cell_type": "markdown",
   "id": "ff2b43f9",
   "metadata": {},
   "source": [
    "# Quick Start\n",
    "\n",
    "## Introduction\n",
    "In this tutorial, you will get a quick view of `weas-widget`. To run this tutorial, you need to install `weas-widget`. Open a terminal and run:\n",
    "\n",
    "```console\n",
    "pip install weas-widget\n",
    "```\n",
    "\n",
    "### \n",
    "\n",
    "## Load structure\n",
    "One can load a structure from ASE or Pymatgen"
   ]
  },
  {
   "cell_type": "code",
   "execution_count": 6,
   "id": "e37d2ab4",
   "metadata": {},
   "outputs": [
    {
     "data": {
      "application/vnd.jupyter.widget-view+json": {
       "model_id": "72c48643992e47a9ae77321b25ddd0fb",
       "version_major": 2,
       "version_minor": 0
      },
      "text/plain": [
       "WeasWidget(atomScales=[1, 1, 1, 1, 1, 1, 1, 1, 1, 1], atoms={'species': {'S': ['S', 16], 'O': ['O', 8], 'C': […"
      ]
     },
     "execution_count": 6,
     "metadata": {},
     "output_type": "execute_result"
    }
   ],
   "source": [
    "from ase.build import molecule\n",
    "from weas_widget import WeasWidget\n",
    "atoms = molecule(\"C2H6SO\")\n",
    "viewer = WeasWidget()\n",
    "viewer.from_ase(atoms)\n",
    "viewer\n"
   ]
  },
  {
   "cell_type": "markdown",
   "id": "145edf54",
   "metadata": {},
   "source": [
    "## Edit the structure with mouse and keyboard\n",
    "WEAS supports editing the atoms directly in the GUI and synchronizing with the structure of the Python object.\n",
    "\n",
    "### Select Atoms\n",
    "There are two methods for selecting atoms:\n",
    "- Single Selection: Click directly on an atom to select it.\n",
    "- Range Selection: Hold the `Shift` key and drag the right mouse button to select a group of atoms.\n",
    "\n",
    "\n",
    "### Move, Rotate selected atoms\n",
    "\n",
    "Press the transform shortcut, and move your mouse.\n",
    "\n",
    "|Operation | Shortcut|\n",
    "|----------|---------|\n",
    "| Move     | `g`   |\n",
    "| Rotate   | `r`   |\n",
    "\n",
    "\n",
    "### Delete selected atoms\n",
    "Press the ``Delete`` key to delete the selected atoms\n",
    "\n",
    "\n",
    "### Export edited atoms\n",
    "One can export the edited atoms to ASE or Pymatgen"
   ]
  },
  {
   "cell_type": "code",
   "execution_count": 7,
   "id": "40d7764b",
   "metadata": {},
   "outputs": [
    {
     "data": {
      "text/plain": [
       "Atoms(symbols='SOC2H6', pbc=False)"
      ]
     },
     "execution_count": 7,
     "metadata": {},
     "output_type": "execute_result"
    }
   ],
   "source": [
    "viewer.to_ase()"
   ]
  },
  {
   "cell_type": "markdown",
   "id": "31abe86e",
   "metadata": {},
   "source": [
    "\n",
    "## Change the style\n",
    "\n",
    "### GUI\n",
    "On the top left, click `open controls`. One can change the viewer settings directly in the GUI:\n",
    "- model style\n",
    "    - Ball\n",
    "    - Ball and Stick\n",
    "    - Polyhedra\n",
    "    - Stick only\n",
    "- color type\n",
    "    - CPK\n",
    "    - VESTA\n",
    "    - JMOL\n",
    "- material type\n",
    "    - Standard\n",
    "    - Phong\n",
    "    - Basic\n",
    "- atom label\n",
    "    - None\n",
    "    - Atom sybol\n",
    "    - Atom index\n",
    "\n",
    "### Python\n",
    "One can use Python change the viewer settings. For example, change atoms style\n"
   ]
  },
  {
   "cell_type": "code",
   "execution_count": 8,
   "id": "add547b0",
   "metadata": {},
   "outputs": [],
   "source": [
    "# ball and stick\n",
    "viewer.modelStyle = 1\n",
    "viewer.drawModels()"
   ]
  },
  {
   "cell_type": "markdown",
   "id": "159dcdbb",
   "metadata": {},
   "source": [
    "One set the style for individue atom"
   ]
  },
  {
   "cell_type": "code",
   "execution_count": 9,
   "id": "c2dddf63",
   "metadata": {},
   "outputs": [],
   "source": [
    "# only draw stick (bond) for first four atoms\n",
    "viewer.modelSticks = [1, 1, 1, 1, 0, 0, 0, 0]\n",
    "viewer.drawModels()"
   ]
  },
  {
   "cell_type": "markdown",
   "id": "895b75ae",
   "metadata": {},
   "source": [
    "Set scale for each atoms:"
   ]
  },
  {
   "cell_type": "code",
   "execution_count": 10,
   "id": "d53f98f5-5683-438e-9393-04900505f0f8",
   "metadata": {
    "tags": []
   },
   "outputs": [],
   "source": [
    "viewer.atomScales = [1, 1, 1, 1, 1, 0.6, 0.6, 0.6, 1.5, 1.5]\n",
    "viewer.drawModels()"
   ]
  },
  {
   "cell_type": "markdown",
   "id": "b12b2131",
   "metadata": {},
   "source": [
    "### Select atoms\n",
    "One can get the indices of the selected atoms by:"
   ]
  },
  {
   "cell_type": "code",
   "execution_count": 11,
   "id": "c4dcca10-f4b5-4495-8767-24f844e9e760",
   "metadata": {
    "tags": []
   },
   "outputs": [
    {
     "data": {
      "text/plain": [
       "[]"
      ]
     },
     "execution_count": 11,
     "metadata": {},
     "output_type": "execute_result"
    }
   ],
   "source": [
    "viewer.selectedAtomsIndices"
   ]
  },
  {
   "cell_type": "markdown",
   "id": "f0441f64",
   "metadata": {},
   "source": [
    "One can set the indices of the selected atoms, thus highlight them by:"
   ]
  },
  {
   "cell_type": "code",
   "execution_count": 12,
   "id": "05651abf-6e18-43a6-a653-709f8c72bb27",
   "metadata": {},
   "outputs": [],
   "source": [
    "viewer.selectedAtomsIndices = [0, 1, 2]"
   ]
  },
  {
   "cell_type": "markdown",
   "id": "9ad1e44b",
   "metadata": {},
   "source": [
    "## Crystal\n",
    "For a nice visualization of a crystal, one usually shows the polyhedra and the atoms on the unit cell boundary, as well as the bonded atoms outside the cell.\n"
   ]
  },
  {
   "cell_type": "code",
   "execution_count": 1,
   "id": "d362b850-867b-4784-83f1-a92eb1372df0",
   "metadata": {
    "scrolled": false
   },
   "outputs": [
    {
     "data": {
      "application/vnd.jupyter.widget-view+json": {
       "model_id": "88dda4ef9a4c417d8eeb67e0b7aabbce",
       "version_major": 2,
       "version_minor": 0
      },
      "text/plain": [
       "WeasWidget(atomScales=[1, 1, 1, 1, 1, 1], atoms={'species': {'Ti': ['Ti', 22], 'O': ['O', 8]}, 'cell': [4.6532…"
      ]
     },
     "execution_count": 1,
     "metadata": {},
     "output_type": "execute_result"
    }
   ],
   "source": [
    "from weas_widget import WeasWidget\n",
    "viewer1 = WeasWidget()\n",
    "viewer1.load_example(\"tio2.cif\")\n",
    "# show polyhedra\n",
    "viewer1.modelStyle = 2\n",
    "# show boundary atoms\n",
    "viewer1.boundary = [[-0.1, 1.1], [-0.1, 1.1], [-0.1, 1.1]]\n",
    "# show bonded atoms outside the cell\n",
    "viewer1.showBondedAtoms = True\n",
    "# Change color tyoe to \"VESTA\"\n",
    "viewer1.colorType = \"VESTA\"\n",
    "viewer1"
   ]
  },
  {
   "cell_type": "markdown",
   "id": "c9a536fb",
   "metadata": {},
   "source": [
    "## Animation\n",
    "One can read a trajectory file, such as an xyz file, for animation. You can play the animation using timeline bar."
   ]
  },
  {
   "cell_type": "code",
   "execution_count": 1,
   "id": "2d564a07",
   "metadata": {},
   "outputs": [
    {
     "data": {
      "application/vnd.jupyter.widget-view+json": {
       "model_id": "4cdf37689f2a451fa26a490bb9543521",
       "version_major": 2,
       "version_minor": 0
      },
      "text/plain": [
       "WeasWidget(atomScales=[1, 1, 1, 1, 1, 1, 1, 1, 1, 1], atoms=[{'species': {'S': ['S', 16], 'O': ['O', 8], 'C': …"
      ]
     },
     "execution_count": 1,
     "metadata": {},
     "output_type": "execute_result"
    }
   ],
   "source": [
    "from ase.build import molecule\n",
    "from weas_widget import WeasWidget\n",
    "atoms = molecule(\"C2H6SO\")\n",
    "# create a list of atoms by rotating it.\n",
    "images = []\n",
    "for i in range(0, 360, 10):\n",
    "    new_atoms = atoms.copy()\n",
    "    new_atoms.rotate(\"z\", i)\n",
    "    images.append(new_atoms)\n",
    "viewer = WeasWidget()\n",
    "viewer.from_ase(images)\n",
    "viewer"
   ]
  },
  {
   "cell_type": "markdown",
   "id": "d383600c",
   "metadata": {},
   "source": [
    "## Isosurface\n",
    "Here is an example of drawing isosurfaces for HOMO of H2O molecule."
   ]
  },
  {
   "cell_type": "code",
   "execution_count": null,
   "id": "36503e95",
   "metadata": {},
   "outputs": [],
   "source": [
    "from weas_widget import WeasWidget\n",
    "from ase.io.cube import read_cube_data\n",
    "volume, atoms = read_cube_data(\"h2o-homo.cube\")\n",
    "viewer = WeasWidget()\n",
    "viewer.from_ase(atoms)\n",
    "viewer.volumetricData = {\"values\": volume}\n",
    "viewer.isoSettings = [{\"isovalue\": 0.0001, \"mode\": 0}]\n",
    "viewer"
   ]
  },
  {
   "cell_type": "markdown",
   "id": "b854bffa-3ef6-4dd2-bfc5-73856d7b1076",
   "metadata": {},
   "source": [
    "## Real world example\n",
    "### Adsorption"
   ]
  },
  {
   "cell_type": "code",
   "execution_count": 17,
   "id": "aa2ade62-65e6-49cc-8721-124f57b1e9ce",
   "metadata": {},
   "outputs": [
    {
     "data": {
      "application/vnd.jupyter.widget-view+json": {
       "model_id": "68efc67a09d34d198a99fb743269652c",
       "version_major": 2,
       "version_minor": 0
      },
      "text/plain": [
       "WeasWidget(atomScales=[1, 1, 1, 1, 1, 1, 1, 1, 1, 1, 1, 1, 1, 1, 1, 1, 1, 1], atoms={'species': {'Au': ['Au', …"
      ]
     },
     "execution_count": 17,
     "metadata": {},
     "output_type": "execute_result"
    }
   ],
   "source": [
    "from ase.build import surface, molecule\n",
    "from weas_widget import WeasWidget\n",
    "au111 = surface(\"Au\", (1, 1, 1), 4, vacuum=5.0)\n",
    "co = molecule(\"CO\")\n",
    "au111 += co\n",
    "viewer = WeasWidget()\n",
    "viewer.from_ase(au111)\n",
    "viewer"
   ]
  },
  {
   "cell_type": "code",
   "execution_count": 18,
   "id": "fdb10de0-e02b-4488-a710-d81303a490d7",
   "metadata": {},
   "outputs": [],
   "source": [
    "au111_co = viewer.to_ase()\n",
    "au111_co.write(\"au111_co.xyz\")"
   ]
  },
  {
   "cell_type": "markdown",
   "id": "8d482e01-a71a-4f8d-a7e4-070086b72f88",
   "metadata": {},
   "source": [
    "### Large system\n",
    "WEAS can handle thousands of atoms."
   ]
  },
  {
   "cell_type": "code",
   "execution_count": 19,
   "id": "63afd654-2a38-4488-a3e7-48f339200a02",
   "metadata": {
    "scrolled": true
   },
   "outputs": [
    {
     "name": "stdout",
     "output_type": "stream",
     "text": [
      "Number of atoms:  2000\n"
     ]
    },
    {
     "name": "stderr",
     "output_type": "stream",
     "text": [
      "/tmp/ipykernel_302500/2893244314.py:6: DeprecationWarning: `product` is deprecated as of NumPy 1.25.0, and will be removed in NumPy 2.0. Please use `prod` instead.\n",
      "  co *= [10, 10, 10]\n"
     ]
    },
    {
     "data": {
      "application/vnd.jupyter.widget-view+json": {
       "model_id": "e36e745936a94abdb90cc003c268374c",
       "version_major": 2,
       "version_minor": 0
      },
      "text/plain": [
       "WeasWidget(atomScales=[1, 1, 1, 1, 1, 1, 1, 1, 1, 1, 1, 1, 1, 1, 1, 1, 1, 1, 1, 1, 1, 1, 1, 1, 1, 1, 1, 1, 1, …"
      ]
     },
     "execution_count": 19,
     "metadata": {},
     "output_type": "execute_result"
    }
   ],
   "source": [
    "from ase.build import surface, molecule\n",
    "from weas_widget import WeasWidget\n",
    "co = molecule(\"CO\")\n",
    "co.center(3.0)\n",
    "co.pbc = [True, True, True]\n",
    "co *= [10, 10, 10]\n",
    "print(\"Number of atoms: \", len(co))\n",
    "viewer2 = WeasWidget()\n",
    "viewer2.from_ase(co)\n",
    "viewer2"
   ]
  }
 ],
 "metadata": {
  "kernelspec": {
   "display_name": "Python 3 (ipykernel)",
   "language": "python",
   "name": "python3"
  },
  "language_info": {
   "codemirror_mode": {
    "name": "ipython",
    "version": 3
   },
   "file_extension": ".py",
   "mimetype": "text/x-python",
   "name": "python",
   "nbconvert_exporter": "python",
   "pygments_lexer": "ipython3",
   "version": "3.11.5"
  }
 },
 "nbformat": 4,
 "nbformat_minor": 5
}
