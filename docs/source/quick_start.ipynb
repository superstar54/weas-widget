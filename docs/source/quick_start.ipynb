{
 "cells": [
  {
   "cell_type": "markdown",
   "id": "22d177dc-6cfb-4de2-9509-f1eb45e10cf2",
   "metadata": {},
   "source": [
    "# Quick Start"
   ]
  },
  {
   "cell_type": "markdown",
   "id": "58696c91",
   "metadata": {},
   "source": [
    "## Introduction\n",
    "In this tutorial, you will get a quick view of `weas-widget`. To run this tutorial, you need to install `weas-widget`. Open a terminal and run:\n",
    "\n",
    "```console\n",
    "pip install weas-widget\n",
    "```\n",
    "\n",
    "### \n"
   ]
  },
  {
   "cell_type": "code",
   "execution_count": 11,
   "id": "4258108d",
   "metadata": {},
   "outputs": [
    {
     "data": {
      "application/vnd.jupyter.widget-view+json": {
       "model_id": "8c31ca0a7ae348558d764e1dbab35fb1",
       "version_major": 2,
       "version_minor": 0
      },
      "text/plain": [
       "WeasWidget(atoms={'species': {'S': ['S', 16], 'O': ['O', 8], 'C': ['C', 6], 'H': ['H', 1]}, 'cell': [5.0, 0.0,…"
      ]
     },
     "execution_count": 11,
     "metadata": {},
     "output_type": "execute_result"
    }
   ],
   "source": [
    "from weas_widget import WeasWidget\n",
    "import ipywidgets as ipw\n",
    "from ase.build import molecule\n",
    "atoms = molecule(\"C2H6SO\")\n",
    "atoms.cell = [5, 5, 5]\n",
    "viewer = WeasWidget()\n",
    "viewer.from_ase(atoms)\n",
    "viewer\n"
   ]
  },
  {
   "cell_type": "markdown",
   "id": "04f7bb3c",
   "metadata": {},
   "source": [
    "Change atoms:"
   ]
  },
  {
   "cell_type": "code",
   "execution_count": 2,
   "id": "91e04d94-3e95-41cf-9d20-464ca0102d8a",
   "metadata": {},
   "outputs": [],
   "source": [
    "atoms = molecule(\"CH4\")\n",
    "atoms.cell = [5, 5, 5]\n",
    "viewer.from_ase(atoms)"
   ]
  },
  {
   "cell_type": "markdown",
   "id": "64e8f2c2-ebef-4b5b-a42e-624e194df50c",
   "metadata": {},
   "source": [
    "## Adsorption"
   ]
  },
  {
   "cell_type": "code",
   "execution_count": 2,
   "id": "9a3e2b24",
   "metadata": {},
   "outputs": [
    {
     "data": {
      "application/vnd.jupyter.widget-view+json": {
       "model_id": "c15536957dc04e498be25f82647424bb",
       "version_major": 2,
       "version_minor": 0
      },
      "text/plain": [
       "WeasWidget(atoms={'species': {'Au': ['Au', 79], 'O': ['O', 8], 'C': ['C', 6]}, 'cell': [5.769991334482228, 0.0…"
      ]
     },
     "execution_count": 2,
     "metadata": {},
     "output_type": "execute_result"
    }
   ],
   "source": [
    "from ase.build import surface, molecule\n",
    "from weas_widget import WeasWidget\n",
    "au111 = surface(\"Au\", (1, 1, 1), 4, vacuum=5.0)\n",
    "co = molecule(\"CO\")\n",
    "au111 += co\n",
    "viewer = WeasWidget()\n",
    "viewer.from_ase(au111)\n",
    "viewer"
   ]
  },
  {
   "cell_type": "code",
   "execution_count": null,
   "id": "561efd5c",
   "metadata": {},
   "outputs": [],
   "source": []
  }
 ],
 "metadata": {
  "kernelspec": {
   "display_name": "Python 3 (ipykernel)",
   "language": "python",
   "name": "python3"
  },
  "language_info": {
   "codemirror_mode": {
    "name": "ipython",
    "version": 3
   },
   "file_extension": ".py",
   "mimetype": "text/x-python",
   "name": "python",
   "nbconvert_exporter": "python",
   "pygments_lexer": "ipython3",
   "version": "3.11.5"
  },
  "vscode": {
   "interpreter": {
    "hash": "2f450c1ff08798c4974437dd057310afef0de414c25d1fd960ad375311c3f6ff"
   }
  }
 },
 "nbformat": 4,
 "nbformat_minor": 5
}
